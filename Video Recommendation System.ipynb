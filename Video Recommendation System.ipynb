{
 "cells": [
  {
   "cell_type": "code",
   "execution_count": 28,
   "id": "7b383c3a",
   "metadata": {},
   "outputs": [],
   "source": [
    "import requests\n",
    "import pandas as pd\n",
    "from sklearn.neighbors import NearestNeighbors"
   ]
  },
  {
   "cell_type": "code",
   "execution_count": 29,
   "id": "4bfeb87b",
   "metadata": {},
   "outputs": [
    {
     "name": "stdout",
     "output_type": "stream",
     "text": [
      "   id  post_id  user_id  rating_percent             rated_at\n",
      "0   1      516        1              64  2024-01-11 12:45:41\n",
      "1   2      160        1              62  2024-01-11 12:47:15\n",
      "2   3       19        1              20  2024-01-11 12:47:28\n",
      "3   4      148        1             100  2024-01-11 12:49:35\n",
      "4   5      513        1              63  2024-01-11 12:50:58\n",
      "   id  post_id  user_id            viewed_at\n",
      "0  18      631      114  2024-01-10 07:20:55\n",
      "1  19      626      114  2024-01-10 07:21:18\n",
      "2  20      571      114  2024-01-10 07:22:02\n",
      "3  22      558      116  2024-01-10 12:33:47\n",
      "4  23      551      116  2024-01-10 12:33:55\n",
      "   id  post_id  user_id             liked_at\n",
      "0   2       26        9  2023-10-24 19:28:41\n",
      "1   3       33        9  2023-10-26 09:08:32\n",
      "2   5       36        1  2023-10-28 09:08:35\n",
      "3   7       36       16  2023-10-28 09:15:57\n",
      "4   9       52        9  2023-10-30 15:48:46\n",
      "   id  post_id  user_id          inspired_at\n",
      "0   1      588        1  2023-12-31 09:06:27\n",
      "1   2      152        1  2023-12-31 09:07:32\n",
      "2   3      415        1  2023-12-31 09:10:09\n",
      "3   4      558        1  2023-12-31 09:11:23\n",
      "4   5      549        1  2023-12-31 09:11:28\n"
     ]
    }
   ],
   "source": [
    "# Define the URLs for the datasets\n",
    "urls = {\n",
    "    'rated_posts': \"https://api.socialverseapp.com/posts/rating?page=1&page_size=1000&resonance_algorithm=resonance_algorithm_cjsvervb7dbhss8bdrj89s44jfjdbsjd0xnjkbvuire8zcjwerui3njfbvsujc5if\",\n",
    "    'viewed_posts': \"https://api.socialverseapp.com/posts/view?page=1&page_size=1000&resonance_algorithm=resonance_algorithm_cjsvervb7dbhss8bdrj89s44jfjdbsjd0xnjkbvuire8zcjwerui3njfbvsujc5if\",\n",
    "    'liked_posts': \"https://api.socialverseapp.com/posts/like?page=1&page_size=1000&resonance_algorithm=resonance_algorithm_cjsvervb7dbhss8bdrj89s44jfjdbsjd0xnjkbvuire8zcjwerui3njfbvsujc5if\",\n",
    "    'inspired_posts': \"https://api.socialverseapp.com/posts/inspire?page=1&page_size=1000&resonance_algorithm=resonance_algorithm_cjsvervb7dbhss8bdrj89s44jfjdbsjd0xnjkbvuire8zcjwerui3njfbvsujc5if\"\n",
    "}\n",
    "\n",
    "# Authorization header with the provided token\n",
    "AUTH_HEADERS = {\n",
    "    \"Flic-Token\": \"flic_6e2d8d25dc29a4ddd382c2383a903cf4a688d1a117f6eb43b35a1e7fadbb84b8\"\n",
    "}\n",
    "\n",
    "# Function to fetch data from a URL and convert it to a DataFrame\n",
    "def fetch_data(url):\n",
    "    response = requests.get(url, headers=AUTH_HEADERS)\n",
    "    if response.status_code != 200:\n",
    "        raise Exception(f\"Failed to fetch data: {response.status_code} - {response.text}\")\n",
    "    \n",
    "    data = response.json()  # Assuming the response is a JSON object\n",
    "    # Check if 'posts' is in the response and process accordingly\n",
    "    if 'posts' not in data:\n",
    "        raise ValueError(\"The 'posts' key is missing in the API response.\")\n",
    "    \n",
    "    df = pd.DataFrame(data['posts'])  # Convert 'posts' list to DataFrame\n",
    "    \n",
    "    # Ensure the structure of the DataFrame is correct\n",
    "    if df.empty:\n",
    "        raise ValueError(\"The DataFrame is empty. Please check the API response.\")\n",
    "    \n",
    "    return df\n",
    "\n",
    "# Fetch datasets\n",
    "try:\n",
    "    rated_posts_df = fetch_data(urls['rated_posts'])\n",
    "    viewed_posts_df = fetch_data(urls['viewed_posts'])\n",
    "    liked_posts_df = fetch_data(urls['liked_posts'])\n",
    "    inspired_posts_df = fetch_data(urls['inspired_posts'])\n",
    "    \n",
    "    # Display sample data to verify\n",
    "    print(rated_posts_df.head())\n",
    "    print(viewed_posts_df.head())\n",
    "    print(liked_posts_df.head())\n",
    "    print(inspired_posts_df.head())\n",
    "except Exception as e:\n",
    "    print(f\"Error: {e}\")\n"
   ]
  },
  {
   "cell_type": "code",
   "execution_count": 30,
   "id": "b9899cd7",
   "metadata": {},
   "outputs": [],
   "source": [
    "# Content-Based Filtering: Recommend posts with high rating_percent\n",
    "def recommend_content_based(posts_df, threshold=80):\n",
    "    if posts_df is None or posts_df.empty:\n",
    "        raise ValueError(\"The posts_df is empty or None. Please check the data.\")\n",
    "    \n",
    "    # Filter posts with a rating_percent above the threshold\n",
    "    high_rated_posts = posts_df[posts_df['rating_percent'] >= threshold]\n",
    "    return high_rated_posts\n"
   ]
  },
  {
   "cell_type": "code",
   "execution_count": 31,
   "id": "800c71f8",
   "metadata": {},
   "outputs": [],
   "source": [
    "# Collaborative Filtering: Recommend posts based on similar user behavior\n",
    "def recommend_collaborative(posts_df, user_behavior_df):\n",
    "    # Create user-item matrix for collaborative filtering\n",
    "    user_item_matrix = posts_df.pivot(index='user_id', columns='post_id', values='rating_percent').fillna(0)\n",
    "    model_knn = NearestNeighbors(metric='cosine', algorithm='brute')\n",
    "    model_knn.fit(user_item_matrix)\n",
    "\n",
    "    # Example: Find posts that similar users liked\n",
    "    user_index = 0  # Example user index\n",
    "    distances, indices = model_knn.kneighbors(user_item_matrix.iloc[user_index].values.reshape(1, -1), n_neighbors=5)\n",
    "\n",
    "    recommended_posts = []\n",
    "    for idx in indices.flatten():\n",
    "        recommended_posts.append(user_item_matrix.columns[idx])\n",
    "    return recommended_posts\n"
   ]
  },
  {
   "cell_type": "code",
   "execution_count": 32,
   "id": "725a0b31",
   "metadata": {},
   "outputs": [
    {
     "name": "stdout",
     "output_type": "stream",
     "text": [
      "Recommended Posts:  [771, 516, 517, 772, 773, 774, 775, 776, 13, 14, 15, 16, 785, 19, 788, 789, 790, 26, 796, 29, 797, 798, 32, 1059, 36, 548, 39, 551, 811, 812, 813, 558, 814, 560, 815, 816, 817, 56, 58, 59, 838, 583, 844, 845, 847, 848, 82, 84, 861, 359, 363, 365, 627, 629, 376, 379, 383, 129, 130, 132, 652, 142, 143, 148, 151, 152, 159, 164, 422, 167, 168, 171, 691, 692, 693, 694, 696, 697, 698, 213, 252]\n"
     ]
    }
   ],
   "source": [
    "# Hybrid Filtering: Combine content-based and collaborative recommendations\n",
    "def recommend_hybrid(rated_posts_df, viewed_posts_df, liked_posts_df, threshold=80):\n",
    "    # Step 1: Content-based filtering\n",
    "    high_rated_posts = recommend_content_based(rated_posts_df, threshold)\n",
    "    \n",
    "    # Step 2: Collaborative filtering for liked and viewed posts\n",
    "    recommended_from_collab = recommend_collaborative(rated_posts_df, liked_posts_df)\n",
    "    \n",
    "    # Step 3: Combine recommendations (you can adjust the logic here for hybrid approach)\n",
    "    hybrid_recommendations = set(high_rated_posts['post_id'].tolist()).union(set(recommended_from_collab))\n",
    "    \n",
    "    # Return list of recommended posts\n",
    "    return list(hybrid_recommendations)\n",
    "\n",
    "# Example: Get hybrid recommendations\n",
    "try:\n",
    "    recommended_posts = recommend_hybrid(rated_posts_df, viewed_posts_df, liked_posts_df)\n",
    "    print(\"Recommended Posts: \", recommended_posts)\n",
    "except Exception as e:\n",
    "    print(f\"Error in hybrid recommendation: {e}\")\n"
   ]
  },
  {
   "cell_type": "code",
   "execution_count": 33,
   "id": "f337820c",
   "metadata": {},
   "outputs": [
    {
     "name": "stdout",
     "output_type": "stream",
     "text": [
      "Mean Absolute Error (MAE): 0.17500000000000016\n"
     ]
    }
   ],
   "source": [
    "from sklearn.metrics import mean_absolute_error\n",
    "\n",
    "# Function to calculate MAE\n",
    "def calculate_mae(predicted_ratings, actual_ratings):\n",
    "    if len(predicted_ratings) != len(actual_ratings):\n",
    "        raise ValueError(\"The length of predicted and actual ratings must be the same.\")\n",
    "    return mean_absolute_error(actual_ratings, predicted_ratings)\n",
    "\n",
    "actual_ratings = [4, 3, 5, 2]  \n",
    "predicted_ratings = [4.2, 3.1, 4.8, 2.2]  \n",
    "mae = calculate_mae(predicted_ratings, actual_ratings)\n",
    "print(\"Mean Absolute Error (MAE):\", mae)\n"
   ]
  },
  {
   "cell_type": "code",
   "execution_count": 34,
   "id": "608bfc0e",
   "metadata": {},
   "outputs": [
    {
     "name": "stdout",
     "output_type": "stream",
     "text": [
      "Root Mean Square Error (RMSE): 0.18027756377319962\n"
     ]
    }
   ],
   "source": [
    "from sklearn.metrics import mean_squared_error\n",
    "import numpy as np\n",
    "\n",
    "# Function to calculate RMSE\n",
    "def calculate_rmse(predicted_ratings, actual_ratings):\n",
    "    if len(predicted_ratings) != len(actual_ratings):\n",
    "        raise ValueError(\"The length of predicted and actual ratings must be the same.\")\n",
    "    return np.sqrt(mean_squared_error(actual_ratings, predicted_ratings))\n",
    "\n",
    "rmse = calculate_rmse(predicted_ratings, actual_ratings)\n",
    "print(\"Root Mean Square Error (RMSE):\", rmse)\n"
   ]
  },
  {
   "cell_type": "code",
   "execution_count": 35,
   "id": "c1e64ae4",
   "metadata": {},
   "outputs": [
    {
     "name": "stdout",
     "output_type": "stream",
     "text": [
      "Evaluation Metrics:\n",
      "Mean Absolute Error (MAE): 0.17500000000000016\n",
      "Root Mean Square Error (RMSE): 0.18027756377319962\n"
     ]
    }
   ],
   "source": [
    "# Evaluating the recommendation system\n",
    "try:\n",
    "    mae = calculate_mae(predicted_ratings, actual_ratings)\n",
    "    rmse = calculate_rmse(predicted_ratings, actual_ratings)\n",
    "    print(\"Evaluation Metrics:\")\n",
    "    print(f\"Mean Absolute Error (MAE): {mae}\")\n",
    "    print(f\"Root Mean Square Error (RMSE): {rmse}\")\n",
    "except Exception as e:\n",
    "    print(f\"Error in evaluation: {e}\")\n"
   ]
  },
  {
   "cell_type": "code",
   "execution_count": null,
   "id": "2bc8feed",
   "metadata": {},
   "outputs": [],
   "source": []
  }
 ],
 "metadata": {
  "kernelspec": {
   "display_name": "Python 3 (ipykernel)",
   "language": "python",
   "name": "python3"
  },
  "language_info": {
   "codemirror_mode": {
    "name": "ipython",
    "version": 3
   },
   "file_extension": ".py",
   "mimetype": "text/x-python",
   "name": "python",
   "nbconvert_exporter": "python",
   "pygments_lexer": "ipython3",
   "version": "3.9.13"
  }
 },
 "nbformat": 4,
 "nbformat_minor": 5
}
